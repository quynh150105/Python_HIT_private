{
  "cells": [
    {
      "cell_type": "code",
      "source": [
        "#problem 1.1:\n",
        "def gt(n):\n",
        "  if n < 2:\n",
        "    return 1\n",
        "  return n* gt(n-1)\n",
        "\n",
        "\n",
        "\n",
        "x = int(input(\"nhap x: \"))\n",
        "n = int(input(\"nhap n: \"))\n",
        "\n",
        "total = 1 + x\n",
        "\n",
        "for i in range(2,100,1):\n",
        "    total += x**i/gt(i)\n",
        "\n",
        "print(total)\n"
      ],
      "metadata": {
        "id": "nkR1TMkG_MKd",
        "outputId": "aa8d7a3f-1e1a-4771-ec45-9323e3c2d9fb",
        "colab": {
          "base_uri": "https://localhost:8080/"
        }
      },
      "execution_count": 9,
      "outputs": [
        {
          "output_type": "stream",
          "name": "stdout",
          "text": [
            "nhap x: 3\n",
            "nhap n: 5\n",
            "20.08553692318766\n"
          ]
        }
      ]
    },
    {
      "cell_type": "code",
      "source": [
        "#problem 1.2:\n",
        "def gt(n):\n",
        "  if n < 2:\n",
        "    return 1\n",
        "  return n* gt(n-1)\n",
        "\n",
        "n = int(input(\"nhap n: \"))\n",
        "\n",
        "total2 = 0\n",
        "\n",
        "for i in range(1,n+1):\n",
        "    total2 += 1/gt(i)\n",
        "\n",
        "print(total2)"
      ],
      "metadata": {
        "id": "ZbJ2OtZKA0oP",
        "outputId": "e913339e-372a-437f-9196-96bfd1787a88",
        "colab": {
          "base_uri": "https://localhost:8080/"
        }
      },
      "execution_count": 10,
      "outputs": [
        {
          "output_type": "stream",
          "name": "stdout",
          "text": [
            "nhap n: 4\n",
            "1.7083333333333335\n"
          ]
        }
      ]
    },
    {
      "cell_type": "code",
      "source": [
        "#problem 2:\n",
        "import math\n",
        "\n",
        "n = int(input(\"nhap n: \"))\n",
        "\n",
        "count = 0\n",
        "\n",
        "for i in range(2,n):\n",
        "    if(math.sqrt(i)**2 ==i):\n",
        "        count += 1\n",
        "\n",
        "print(count)\n"
      ],
      "metadata": {
        "id": "H5SGAkTEBWAV",
        "outputId": "a98b9c3e-997d-4cfc-e214-6286f4763518",
        "colab": {
          "base_uri": "https://localhost:8080/"
        }
      },
      "execution_count": 11,
      "outputs": [
        {
          "output_type": "stream",
          "name": "stdout",
          "text": [
            "nhap n: 5\n",
            "1\n"
          ]
        }
      ]
    },
    {
      "cell_type": "code",
      "source": [
        "#problem 3:\n",
        "def check(n):\n",
        "    if(n >=0 and n <100):\n",
        "        return \"Yeu\"\n",
        "    elif(n>=100 and n < 150):\n",
        "        return \"Kha\"\n",
        "    elif(n>=150 and n<190):\n",
        "        return \"Gioi\"\n",
        "    else:\n",
        "        return \"Xuat sac\"\n",
        "\n",
        "n = int(input(\"nhap so sinh vien: \"))\n",
        "answer = list()\n",
        "a = list()\n",
        "\n",
        "for i in range(n):\n",
        "    name = input(\"nhap ten: \")\n",
        "    point1 = int(input(\"nhap diem bai 1: \"))\n",
        "    point2 = int(input(\"nhap diem bai 2: \"))\n",
        "    total = point1 + point2\n",
        "    a = [i+1,name,total, check(total)]\n",
        "    answer.append(a)\n",
        "\n",
        "for i in answer:\n",
        "    print(' '.join(map(str,i)))"
      ],
      "metadata": {
        "id": "bTUBuea_BiI3",
        "outputId": "35a6513b-de8b-4f3c-d5af-5c226e1e3dd8",
        "colab": {
          "base_uri": "https://localhost:8080/"
        }
      },
      "execution_count": 13,
      "outputs": [
        {
          "output_type": "stream",
          "name": "stdout",
          "text": [
            "nhap so sinh vien: 2\n",
            "nhap ten: Quynh\n",
            "nhap diem bai 1: 50\n",
            "nhap diem bai 2: 60\n",
            "nhap ten: Anh\n",
            "nhap diem bai 1: 50\n",
            "nhap diem bai 2: 90\n",
            "1 Quynh 110 Kha\n",
            "2 Anh 140 Kha\n"
          ]
        }
      ]
    },
    {
      "cell_type": "code",
      "source": [
        "#Problem 4:\n",
        "str = input()\n",
        "\n",
        "for i in range(len(str)):\n",
        "    if str[0] != \"@\" and str[len(str)-1] == \"@gmail.com\" in str and \" \" not in str:\n",
        "        print(\"valid\")\n",
        "        break\n",
        "    else:\n",
        "        print(\"invalid\")\n",
        "        break\n"
      ],
      "metadata": {
        "id": "5I-heczfB-O6",
        "outputId": "a1af70cf-c88b-4cb3-8974-f1a4268df97a",
        "colab": {
          "base_uri": "https://localhost:8080/"
        }
      },
      "execution_count": 14,
      "outputs": [
        {
          "output_type": "stream",
          "name": "stdout",
          "text": [
            "quynh1512005@gmail.com\n",
            "invalid\n"
          ]
        }
      ]
    },
    {
      "cell_type": "code",
      "source": [
        "#problem 5:\n",
        "m = int(input(\"nhap so luong dong vat: \"))\n",
        "\n",
        "total_food = 0\n",
        "\n",
        "l1 = list()\n",
        "l2 = list()\n",
        "\n",
        "for i in range(m):\n",
        "    name = input(\"ten dong vat: \")\n",
        "    food = int(input(\"luong thuc an: \"))\n",
        "    if food < 5:\n",
        "        continue\n",
        "    if food > 100:\n",
        "        break\n",
        "    total_food += food\n",
        "    l1.append(name)\n",
        "    l2.append(food)\n",
        "ds = zip(l1,l2)\n",
        "\n",
        "l_e_i = l2[0]\n",
        "m_e_i = l2[0]\n",
        "index_min = 0\n",
        "index_max = 0\n",
        "\n",
        "for i in range(len(l2)):\n",
        "    if l2[i] >= m_e_i:\n",
        "        index_max = i\n",
        "\n",
        "for i in range(len(l2)):\n",
        "    if l2[i] <= l_e_i:\n",
        "        index_min = i\n",
        "\n",
        "\n",
        "print(\"-------------------------------------------\")\n",
        "print(\"Y/C 1: \")\n",
        "print(\"danh sach luong thuc an moi loai can moi ngay: \")\n",
        "for i in ds:\n",
        "    print(' '.join(map(str,i)), \"kg\")\n",
        "print()\n",
        "print(\"Y/C 2: \")\n",
        "print(\"tong luong thuc an: \" , total_food)\n",
        "print()\n",
        "print(\"Y/C 3: \")\n",
        "print(f\"loai ai nhieu nhat: {l1[index_max]}\")\n",
        "print()\n",
        "print(\"Y/C 4: \")\n",
        "print(l2)\n",
        "print(f\"chi so cua loai an it nhat: {index_min}\")\n"
      ],
      "metadata": {
        "id": "YDRzX7lRCLnL"
      },
      "execution_count": null,
      "outputs": []
    }
  ],
  "metadata": {
    "colab": {
      "name": "Colaboratory chào mừng bạn!",
      "provenance": []
    },
    "kernelspec": {
      "display_name": "Python 3",
      "name": "python3"
    }
  },
  "nbformat": 4,
  "nbformat_minor": 0
}